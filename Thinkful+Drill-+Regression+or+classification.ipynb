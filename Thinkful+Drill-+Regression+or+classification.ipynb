{
 "cells": [
  {
   "cell_type": "markdown",
   "metadata": {},
   "source": [
    "### Thinkful Drill- Regression or classification\n",
    "##### Arun Nair"
   ]
  },
  {
   "cell_type": "markdown",
   "metadata": {},
   "source": [
    "For each of the following situations, decide if you would model using a regression or classification model.\n"
   ]
  },
  {
   "cell_type": "markdown",
   "metadata": {},
   "source": [
    "#### The amount a person will spend on a given site in the next 24 months.\n",
    "\n",
    "If they have been already a user, this can be classification."
   ]
  },
  {
   "cell_type": "markdown",
   "metadata": {},
   "source": [
    "#### What color car someone is going to buy.\n",
    "This can depend on their tastes, the color opitions currently available, or the shade of the color that is most attractive. It will be regression.\n",
    "\n",
    "But if we can also simplify it and have five choices of color: Black, Yellow, White, Red, and Blue. In this scenario, it becomes a classification choice."
   ]
  },
  {
   "cell_type": "markdown",
   "metadata": {},
   "source": [
    "#### How many children a family will have.\n",
    "\n",
    "This is not a definite answer. The family may choose to adopt, or decide to have another child at any time. The could also end up having twins or triplets as a surprise. It will be mostly regression, based on financial status, and overall happiness of the family."
   ]
  },
  {
   "cell_type": "markdown",
   "metadata": {},
   "source": [
    "#### If someone will sign up for a service.\n",
    "\n",
    "This can be a simple yes or no question, which makes it sound as a classification question. But to dig deeper, we must ask why the user would want to sign up for the service? can they afford the cost? Is it useful for them(the most fundamental)? Are the signign up just for a trial period? Will they choose an alternatiev service over this? It can be regression as well."
   ]
  },
  {
   "cell_type": "markdown",
   "metadata": {},
   "source": [
    "#### The number of times someone will get sick in a year.\n",
    "\n",
    "This is a typical continuous outcom variable. A person can get sick due to external factors, beyond their control. Therefore, it is regression."
   ]
  },
  {
   "cell_type": "markdown",
   "metadata": {},
   "source": [
    "#### The probability someone will get sick in the next month.\n",
    "\n",
    "Probability is 50/50. Meaning they could, or could not. But again, we have to see the prior data, to be able to predict if the person will fall sick.\n",
    "\n",
    "It can be both?\n"
   ]
  },
  {
   "cell_type": "markdown",
   "metadata": {},
   "source": [
    "#### Which medicine will work best for a given patient.\n",
    "\n",
    "Given the prescription from the Doctor, the patient will be given a choice for the most suitable remedy. This is classification."
   ]
  }
 ],
 "metadata": {
  "kernelspec": {
   "display_name": "Python 3",
   "language": "python",
   "name": "python3"
  },
  "language_info": {
   "codemirror_mode": {
    "name": "ipython",
    "version": 3
   },
   "file_extension": ".py",
   "mimetype": "text/x-python",
   "name": "python",
   "nbconvert_exporter": "python",
   "pygments_lexer": "ipython3",
   "version": "3.6.3"
  }
 },
 "nbformat": 4,
 "nbformat_minor": 2
}
