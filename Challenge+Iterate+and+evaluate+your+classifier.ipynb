{
 "cells": [
  {
   "cell_type": "markdown",
   "metadata": {},
   "source": [
    "Just a work in Progress!"
   ]
  },
  {
   "cell_type": "markdown",
   "metadata": {},
   "source": [
    "Now that you've spent some time tinkering with an example Naive Bayes Classifier, it's time to build your own.\n",
    "\n",
    "We've mentioned that Naive Bayes is particularly good for text classification problems. Before we made a spam filter. Now we'll perform a sentiment analysis, classifying whether feedback left on a website is either positive or negative.\n",
    "\n",
    "Again the UCI Machine Learning database has a nice labeled dataset of sentiment labelled sentences for us to use. This dataset was created for the paper From Group to Individual Labels using Deep Features, Kotzias et. al., KDD 2015.\n",
    "\n",
    "Pick one of the company data files and build your own classifier. When you're satisfied with its performance (at this point just using the accuracy measure shown in the example), test it on one of the other datasets to see how well these kinds of classifiers translate from one context to another.\n",
    "\n",
    "Include your model and a brief writeup of your feature engineering and selection process to submit and review with your mentor.\n",
    "\n"
   ]
  },
  {
   "cell_type": "code",
   "execution_count": 57,
   "metadata": {
    "collapsed": true
   },
   "outputs": [],
   "source": [
    "import numpy as np\n",
    "import pandas as pd\n",
    "import scipy as scipy\n",
    "from scipy.stats import ttest_ind\n",
    "import matplotlib.pyplot as plt\n",
    "import matplotlib.ticker as ticker\n",
    "import matplotlib.cbook as cbook\n",
    "import seaborn as sns\n",
    "%matplotlib inline"
   ]
  },
  {
   "cell_type": "code",
   "execution_count": 58,
   "metadata": {},
   "outputs": [
    {
     "data": {
      "text/html": [
       "<div>\n",
       "<style>\n",
       "    .dataframe thead tr:only-child th {\n",
       "        text-align: right;\n",
       "    }\n",
       "\n",
       "    .dataframe thead th {\n",
       "        text-align: left;\n",
       "    }\n",
       "\n",
       "    .dataframe tbody tr th {\n",
       "        vertical-align: top;\n",
       "    }\n",
       "</style>\n",
       "<table border=\"1\" class=\"dataframe\">\n",
       "  <thead>\n",
       "    <tr style=\"text-align: right;\">\n",
       "      <th></th>\n",
       "      <th>Feedback</th>\n",
       "      <th>Binary</th>\n",
       "    </tr>\n",
       "  </thead>\n",
       "  <tbody>\n",
       "    <tr>\n",
       "      <th>0</th>\n",
       "      <td>So there is no way for me to plug it in here i...</td>\n",
       "      <td>0</td>\n",
       "    </tr>\n",
       "    <tr>\n",
       "      <th>1</th>\n",
       "      <td>Good case, Excellent value.</td>\n",
       "      <td>1</td>\n",
       "    </tr>\n",
       "    <tr>\n",
       "      <th>2</th>\n",
       "      <td>Great for the jawbone.</td>\n",
       "      <td>1</td>\n",
       "    </tr>\n",
       "    <tr>\n",
       "      <th>3</th>\n",
       "      <td>Tied to charger for conversations lasting more...</td>\n",
       "      <td>0</td>\n",
       "    </tr>\n",
       "    <tr>\n",
       "      <th>4</th>\n",
       "      <td>The mic is great.</td>\n",
       "      <td>1</td>\n",
       "    </tr>\n",
       "  </tbody>\n",
       "</table>\n",
       "</div>"
      ],
      "text/plain": [
       "                                            Feedback  Binary\n",
       "0  So there is no way for me to plug it in here i...       0\n",
       "1                        Good case, Excellent value.       1\n",
       "2                             Great for the jawbone.       1\n",
       "3  Tied to charger for conversations lasting more...       0\n",
       "4                                  The mic is great.       1"
      ]
     },
     "execution_count": 58,
     "metadata": {},
     "output_type": "execute_result"
    }
   ],
   "source": [
    "df = pd.read_csv('amazon_cells_labelled.txt', sep='\\t', header=None)\n",
    "df.columns = ['Feedback','Binary']\n",
    "df.head()"
   ]
  },
  {
   "cell_type": "code",
   "execution_count": 59,
   "metadata": {},
   "outputs": [
    {
     "data": {
      "text/plain": [
       "0    False\n",
       "1     True\n",
       "2    False\n",
       "3    False\n",
       "4    False\n",
       "Name: good, dtype: bool"
      ]
     },
     "execution_count": 59,
     "metadata": {},
     "output_type": "execute_result"
    }
   ],
   "source": [
    "keywords = ['Excellent','great','good']\n",
    "\n",
    "for key in keywords:\n",
    "    df[str(key)]= df.Feedback.str.contains(\n",
    "    ''+ str(key) +'',\n",
    "        case=False\n",
    "    )\n",
    "    \n",
    "df[str(key)].head() "
   ]
  },
  {
   "cell_type": "code",
   "execution_count": 60,
   "metadata": {},
   "outputs": [
    {
     "data": {
      "text/plain": [
       "0    False\n",
       "1    False\n",
       "2    False\n",
       "3    False\n",
       "4    False\n",
       "Name: allcaps, dtype: bool"
      ]
     },
     "execution_count": 60,
     "metadata": {},
     "output_type": "execute_result"
    }
   ],
   "source": [
    "df['allcaps'] = df.Feedback.str.isupper()\n",
    "df['allcaps'].head()"
   ]
  },
  {
   "cell_type": "code",
   "execution_count": 61,
   "metadata": {},
   "outputs": [
    {
     "data": {
      "text/plain": [
       "<seaborn.axisgrid.PairGrid at 0x20fc3391518>"
      ]
     },
     "execution_count": 61,
     "metadata": {},
     "output_type": "execute_result"
    },
    {
     "data": {
      "image/png": "[encoded data removed]",
      "text/plain": [
       "<matplotlib.figure.Figure at 0x20fc3391940>"
      ]
     },
     "metadata": {},
     "output_type": "display_data"
    }
   ],
   "source": [
    "sns.pairplot(df)"
   ]
  },
  {
   "cell_type": "code",
   "execution_count": 62,
   "metadata": {},
   "outputs": [
    {
     "data": {
      "text/plain": [
       "<matplotlib.axes._subplots.AxesSubplot at 0x20fc5039080>"
      ]
     },
     "execution_count": 62,
     "metadata": {},
     "output_type": "execute_result"
    },
    {
     "data": {
      "image/png": "[encoded data removed]",
      "text/plain": [
       "<matplotlib.figure.Figure at 0x20fc4f74908>"
      ]
     },
     "metadata": {},
     "output_type": "display_data"
    }
   ],
   "source": [
    "sns.heatmap(df.corr())"
   ]
  },
  {
   "cell_type": "code",
   "execution_count": 63,
   "metadata": {
    "collapsed": true
   },
   "outputs": [],
   "source": [
    "data = df[keywords + ['allcaps']]\n",
    "target = df['Binary']"
   ]
  },
  {
   "cell_type": "code",
   "execution_count": 64,
   "metadata": {},
   "outputs": [
    {
     "name": "stdout",
     "output_type": "stream",
     "text": [
      "Number of labeled points out of a total 1000 points : 654\n"
     ]
    }
   ],
   "source": [
    "from sklearn.naive_bayes import BernoulliNB\n",
    "bnb = BernoulliNB()\n",
    "bnb.fit(data, target)\n",
    "y_pred = bnb.predict(data)\n",
    "\n",
    "print(\"Number of labeled points out of a total {} points : {}\".format(\n",
    "    data.shape[0],\n",
    "    (target == y_pred).sum()\n",
    "))\n"
   ]
  },
  {
   "cell_type": "code",
   "execution_count": 65,
   "metadata": {},
   "outputs": [
    {
     "data": {
      "text/plain": [
       "0.65400000000000003"
      ]
     },
     "execution_count": 65,
     "metadata": {},
     "output_type": "execute_result"
    }
   ],
   "source": [
    "from sklearn.metrics import accuracy_score\n",
    "accuracy_score(target, y_pred)"
   ]
  },
  {
   "cell_type": "code",
   "execution_count": 66,
   "metadata": {
    "collapsed": true
   },
   "outputs": [],
   "source": [
    "from sklearn.model_selection import train_test_split # function for splitting data to train and test sets\n",
    "\n",
    "import nltk\n",
    "from nltk.corpus import stopwords\n",
    "from nltk.classify import SklearnClassifier\n",
    "\n",
    "\n",
    "import matplotlib.pyplot as plt\n",
    "%matplotlib inline\n",
    "\n",
    "# Input data files are available in the \"../input/\" directory.\n",
    "# For example, running this (by clicking run or pressing Shift+Enter) will list the files in the input directory\n",
    "\n",
    "from subprocess import check_output"
   ]
  },
  {
   "cell_type": "code",
   "execution_count": 67,
   "metadata": {},
   "outputs": [
    {
     "data": {
      "text/plain": [
       "(                                              Feedback  Binary  Excellent  \\\n",
       " 915  So I had to take the battery out of the phone ...       0      False   \n",
       " 199                        useless phone, simply deaf.       0      False   \n",
       " 944  I does not maintain a connection with the comp...       0      False   \n",
       " 472  Disappointment.. I hate anything that goes in ...       0      False   \n",
       " 547  Trying to make a call on these is an exercise ...       0      False   \n",
       " 571                       This fixes all the problems.       1      False   \n",
       " 608   It is cheap, and it feel and look just as cheap.       0      False   \n",
       " 628  Case was more or less an extra that I original...       0      False   \n",
       " 767  I really wanted the Plantronics 510 to be the ...       0      False   \n",
       " 295   This is hands down the best phone I've ever had.       1      False   \n",
       " 841  the only VERY DISAPPOINTING thing was there wa...       0      False   \n",
       " 353  Their network coverage in Los Angeles is horri...       0      False   \n",
       " 293                        DO NOT PURCHASE THIS PHONE.       0      False   \n",
       " 134                       Buyer--Be Very Careful!!!!!.       0      False   \n",
       " 620  Steer clear of this product and go with the ge...       0      False   \n",
       " 793  I bought this battery with a coupon from Amazo...       1      False   \n",
       " 776                      I highly recommend this case.       1      False   \n",
       " 344                            Worst customer service.       0      False   \n",
       " 151                  Audio Quality is poor, very poor.       0      False   \n",
       " 136                     Very good stuff for the price.       1      False   \n",
       " 39                                  worthless product.       0      False   \n",
       " 880  The bottowm line...another worthless, cheap gi...       0      False   \n",
       " 53   This phone is pretty sturdy and I've never had...       1      False   \n",
       " 538  The eargels channel the sound directly into yo...       1      False   \n",
       " 747  This BlueAnt Supertooth hands-free phone speak...       1      False   \n",
       " 754  The camera on the phone may be used as a dustp...       0      False   \n",
       " 657  The handsfree part works fine, but then the ca...       1      False   \n",
       " 734  We have tried 2 units and they both failed wit...       0      False   \n",
       " 30   This is a simple little phone to use, but the ...       0      False   \n",
       " 832                                       dont buy it.       0      False   \n",
       " ..                                                 ...     ...        ...   \n",
       " 250  It's fits like a glove and is strong, secure, ...       1      False   \n",
       " 11   He was very impressed when going from the orig...       1      False   \n",
       " 975  It is the best charger I have seen on the mark...       1      False   \n",
       " 373  The worst phone I've ever had.... Only had it ...       0      False   \n",
       " 409  I came over from Verizon because cingulair has...       0      False   \n",
       " 62   These headphones were a great find - and I thi...       1      False   \n",
       " 257                                    Great Earpiece.       1      False   \n",
       " 996  What a piece of junk.. I lose more calls on th...       0      False   \n",
       " 562  All in all, I'm quite satisfied with this purc...       1      False   \n",
       " 778                              This is a great deal.       1      False   \n",
       " 583  It plays louder than any other speaker of this...       1      False   \n",
       " 163  Works like a charm; it work the same as the on...       1      False   \n",
       " 247  Nice headphones for the price and they work gr...       1      False   \n",
       " 716  It quit working after I'd used it for about 18...       1      False   \n",
       " 381  you can even take self portraits with the outs...       1      False   \n",
       " 666                                        Nice Sound.       1      False   \n",
       " 430                               Fantastic earphones.       1      False   \n",
       " 524                                      Works great!.       1      False   \n",
       " 937  The headset fulfills my requirements so I am h...       1      False   \n",
       " 182  The sound quality is good and functionality is...       1      False   \n",
       " 678  It works fine on my Motorola 325 cellphone, an...       1      False   \n",
       " 923                                        cool phone.       1      False   \n",
       " 141  During several different 2 minute calls, I exp...       0      False   \n",
       " 157        This item is fantastic and works perfectly!       1      False   \n",
       " 647                                       Great phone.       1      False   \n",
       " 973                                     Lousy product.       0      False   \n",
       " 774  Excellent sound, battery life and inconspicuou...       1       True   \n",
       " 862                 So far it has worked like a charm.       1      False   \n",
       " 882  The only good thing was that it fits comfortab...       1      False   \n",
       " 997                       Item Does Not Match Picture.       0      False   \n",
       " \n",
       "      great   good  allcaps  \n",
       " 915  False  False    False  \n",
       " 199  False  False    False  \n",
       " 944  False  False    False  \n",
       " 472  False  False    False  \n",
       " 547  False  False    False  \n",
       " 571  False  False    False  \n",
       " 608  False  False    False  \n",
       " 628  False  False    False  \n",
       " 767  False   True    False  \n",
       " 295  False  False    False  \n",
       " 841  False  False    False  \n",
       " 353  False  False    False  \n",
       " 293  False  False     True  \n",
       " 134  False  False    False  \n",
       " 620  False  False    False  \n",
       " 793  False  False    False  \n",
       " 776  False  False    False  \n",
       " 344  False  False    False  \n",
       " 151  False  False    False  \n",
       " 136  False   True    False  \n",
       " 39   False  False    False  \n",
       " 880  False  False    False  \n",
       " 53   False  False    False  \n",
       " 538  False  False    False  \n",
       " 747  False  False    False  \n",
       " 754  False  False    False  \n",
       " 657  False  False    False  \n",
       " 734  False  False    False  \n",
       " 30   False  False    False  \n",
       " 832  False  False    False  \n",
       " ..     ...    ...      ...  \n",
       " 250  False  False    False  \n",
       " 11   False  False    False  \n",
       " 975  False  False    False  \n",
       " 373  False  False    False  \n",
       " 409  False  False    False  \n",
       " 62    True  False    False  \n",
       " 257   True  False    False  \n",
       " 996  False  False    False  \n",
       " 562  False  False    False  \n",
       " 778   True  False    False  \n",
       " 583  False  False    False  \n",
       " 163  False  False    False  \n",
       " 247   True  False    False  \n",
       " 716  False  False    False  \n",
       " 381  False  False    False  \n",
       " 666  False  False    False  \n",
       " 430  False  False    False  \n",
       " 524   True  False    False  \n",
       " 937  False  False    False  \n",
       " 182  False   True    False  \n",
       " 678  False  False    False  \n",
       " 923  False  False    False  \n",
       " 141  False  False    False  \n",
       " 157  False  False    False  \n",
       " 647   True  False    False  \n",
       " 973  False  False    False  \n",
       " 774  False  False    False  \n",
       " 862  False  False    False  \n",
       " 882  False   True    False  \n",
       " 997  False  False    False  \n",
       " \n",
       " [900 rows x 6 columns],\n",
       "                                               Feedback  Binary  Excellent  \\\n",
       " 169  One thing I hate is the mode set button at the...       0      False   \n",
       " 398  Sounds good reasonably priced and effective, I...       1      False   \n",
       " 332                        The reception is excellent!       1       True   \n",
       " 452  My colleague & I now get great reception.A lit...       1      False   \n",
       " 369  I was looking for this headset for a long time...       1      False   \n",
       " 531                  They refuse to refund or replace.       0      False   \n",
       " 609         It fits my ear well and is comfortable on.       1      False   \n",
       " 601  The real killer is the volume, and of course i...       0      False   \n",
       " 824                     Awkward to use and unreliable.       0      False   \n",
       " 60   Essentially you can forget Microsoft's tech su...       0      False   \n",
       " 972                        Earbud piece breaks easily.       0      False   \n",
       " 94                            Dont waste your money...       0      False   \n",
       " 119                 )Setup couldn't have been simpler.       1      False   \n",
       " 385  The worst piece of crap ever along with the Ve...       0      False   \n",
       " 852  I have read other's reviews here but I haven't...       1      False   \n",
       " 231                          What a big waste of time.       0      False   \n",
       " 12   If the two were seperated by a mere 5+ ft I st...       0      False   \n",
       " 294  The voice recognition thru the handset is exce...       1       True   \n",
       " 461                We would recommend these to others.       1      False   \n",
       " 574  I've had no trouble accessing the Internet, do...       1      False   \n",
       " 612  I like design and look of Jabra behing the ear...       1      False   \n",
       " 194                                     Not impressed.       0      False   \n",
       " 711  It lasts less than 3o minutes, if I actually t...       0      False   \n",
       " 85   The headsets are easy to use and everyone love...       1      False   \n",
       " 465                           The battery works great!       1      False   \n",
       " 458  Very well made and fits my Surefire GX2 perfec...       1      False   \n",
       " 140                                      What a waste.       0      False   \n",
       " 989  The text messaging feature is really tricky to...       0      False   \n",
       " 59                 The buttons for on and off are bad.       0      False   \n",
       " 286          I wouldn't recommend buying this product.       0      False   \n",
       " ..                                                 ...     ...        ...   \n",
       " 834  However, the ear pads come off easily and afte...       0      False   \n",
       " 320               I am also very happy with the price.       1      False   \n",
       " 729  After receiving and using the product for just...       0      False   \n",
       " 871  I received my headset in good time and was hap...       1      False   \n",
       " 914  My phone sounded OK ( not great - OK), but my ...       0      False   \n",
       " 180                            Don't buy this product.       0      False   \n",
       " 702  * Comes with a strong light that you can use t...       1      False   \n",
       " 812                 Battery charge-life is quite long.       1      False   \n",
       " 491  It is super charged up for use as a small hybr...       1      False   \n",
       " 107  I love my 350 headset.. My Jabra350 bluetooth ...       1      False   \n",
       " 957                           Love it.. Great armband.       1      False   \n",
       " 342  A PIECE OF JUNK THAT BROKE AFTER BEING ON MY P...       0      False   \n",
       " 640  Performed awful -- muffled, tinny incoming sou...       0      False   \n",
       " 444  I would recommend purchasing the Jabra JX-10 s...       1      False   \n",
       " 542  Perhaps my phone is defective, but people cann...       0      False   \n",
       " 178  It only recognizes the Phone as its storage de...       0      False   \n",
       " 811                #1 It Works - #2 It is Comfortable.       1      False   \n",
       " 300                                   Sending it back.       0      False   \n",
       " 510  This frog phone charm is adorable and very eye...       1      False   \n",
       " 701                 You can't beat the price on these.       1      False   \n",
       " 290                                       Great Phone.       1      False   \n",
       " 397                           Great product and price.       1      False   \n",
       " 984  Adapter does not provide enough charging current.       0      False   \n",
       " 418  Att is not clear, sound is very distorted and ...       0      False   \n",
       " 105  Pros:-Good camera - very nice pictures , also ...       1      False   \n",
       " 28   People couldnt hear me talk and I had to pull ...       0      False   \n",
       " 411        I highly recommend this device to everyone!       1      False   \n",
       " 791    I own 2 of these cases and would order another.       1      False   \n",
       " 910                                Good show, Samsung.       1      False   \n",
       " 819                              I would recommend it.       1      False   \n",
       " \n",
       "      great   good  allcaps  \n",
       " 169  False  False    False  \n",
       " 398  False   True    False  \n",
       " 332  False  False    False  \n",
       " 452   True  False    False  \n",
       " 369  False  False    False  \n",
       " 531  False  False    False  \n",
       " 609  False  False    False  \n",
       " 601  False  False    False  \n",
       " 824  False  False    False  \n",
       " 60   False  False    False  \n",
       " 972  False  False    False  \n",
       " 94   False  False    False  \n",
       " 119  False  False    False  \n",
       " 385  False  False    False  \n",
       " 852  False  False    False  \n",
       " 231  False  False    False  \n",
       " 12   False  False    False  \n",
       " 294  False  False    False  \n",
       " 461  False  False    False  \n",
       " 574  False  False    False  \n",
       " 612  False  False    False  \n",
       " 194  False  False    False  \n",
       " 711  False  False    False  \n",
       " 85   False  False    False  \n",
       " 465   True  False    False  \n",
       " 458  False  False    False  \n",
       " 140  False  False    False  \n",
       " 989  False  False    False  \n",
       " 59   False  False    False  \n",
       " 286  False  False    False  \n",
       " ..     ...    ...      ...  \n",
       " 834  False  False    False  \n",
       " 320  False  False    False  \n",
       " 729  False  False    False  \n",
       " 871  False   True    False  \n",
       " 914   True  False    False  \n",
       " 180  False  False    False  \n",
       " 702  False  False    False  \n",
       " 812  False  False    False  \n",
       " 491  False  False    False  \n",
       " 107   True   True    False  \n",
       " 957   True  False    False  \n",
       " 342  False  False     True  \n",
       " 640  False  False    False  \n",
       " 444  False  False    False  \n",
       " 542  False  False    False  \n",
       " 178  False  False    False  \n",
       " 811  False  False    False  \n",
       " 300  False  False    False  \n",
       " 510  False  False    False  \n",
       " 701  False  False    False  \n",
       " 290   True  False    False  \n",
       " 397   True  False    False  \n",
       " 984  False  False    False  \n",
       " 418  False  False    False  \n",
       " 105  False   True    False  \n",
       " 28   False  False    False  \n",
       " 411  False  False    False  \n",
       " 791  False  False    False  \n",
       " 910  False   True    False  \n",
       " 819  False  False    False  \n",
       " \n",
       " [100 rows x 6 columns])"
      ]
     },
     "execution_count": 67,
     "metadata": {},
     "output_type": "execute_result"
    }
   ],
   "source": [
    "train, test = train_test_split(df,test_size = 0.1)\n",
    "train, test"
   ]
  },
  {
   "cell_type": "code",
   "execution_count": 68,
   "metadata": {
    "collapsed": true
   },
   "outputs": [],
   "source": [
    "a=1\n",
    "b=0\n",
    "\n",
    "train_pos = train[ train['Binary'] == int(a)]\n",
    "train_pos = train_pos['Feedback']\n",
    "train_neg = train[ train['Binary'] == int(b)]\n",
    "train_neg = train_neg['Feedback']\n"
   ]
  },
  {
   "cell_type": "code",
   "execution_count": 69,
   "metadata": {},
   "outputs": [
    {
     "data": {
      "text/html": [
       "<div>\n",
       "<style>\n",
       "    .dataframe thead tr:only-child th {\n",
       "        text-align: right;\n",
       "    }\n",
       "\n",
       "    .dataframe thead th {\n",
       "        text-align: left;\n",
       "    }\n",
       "\n",
       "    .dataframe tbody tr th {\n",
       "        vertical-align: top;\n",
       "    }\n",
       "</style>\n",
       "<table border=\"1\" class=\"dataframe\">\n",
       "  <thead>\n",
       "    <tr style=\"text-align: right;\">\n",
       "      <th></th>\n",
       "      <th>Feedback</th>\n",
       "      <th>Binary</th>\n",
       "      <th>Excellent</th>\n",
       "      <th>great</th>\n",
       "      <th>good</th>\n",
       "      <th>allcaps</th>\n",
       "    </tr>\n",
       "  </thead>\n",
       "  <tbody>\n",
       "    <tr>\n",
       "      <th>571</th>\n",
       "      <td>This fixes all the problems.</td>\n",
       "      <td>1</td>\n",
       "      <td>False</td>\n",
       "      <td>False</td>\n",
       "      <td>False</td>\n",
       "      <td>False</td>\n",
       "    </tr>\n",
       "    <tr>\n",
       "      <th>295</th>\n",
       "      <td>This is hands down the best phone I've ever had.</td>\n",
       "      <td>1</td>\n",
       "      <td>False</td>\n",
       "      <td>False</td>\n",
       "      <td>False</td>\n",
       "      <td>False</td>\n",
       "    </tr>\n",
       "    <tr>\n",
       "      <th>793</th>\n",
       "      <td>I bought this battery with a coupon from Amazo...</td>\n",
       "      <td>1</td>\n",
       "      <td>False</td>\n",
       "      <td>False</td>\n",
       "      <td>False</td>\n",
       "      <td>False</td>\n",
       "    </tr>\n",
       "    <tr>\n",
       "      <th>776</th>\n",
       "      <td>I highly recommend this case.</td>\n",
       "      <td>1</td>\n",
       "      <td>False</td>\n",
       "      <td>False</td>\n",
       "      <td>False</td>\n",
       "      <td>False</td>\n",
       "    </tr>\n",
       "    <tr>\n",
       "      <th>136</th>\n",
       "      <td>Very good stuff for the price.</td>\n",
       "      <td>1</td>\n",
       "      <td>False</td>\n",
       "      <td>False</td>\n",
       "      <td>True</td>\n",
       "      <td>False</td>\n",
       "    </tr>\n",
       "  </tbody>\n",
       "</table>\n",
       "</div>"
      ],
      "text/plain": [
       "                                              Feedback  Binary  Excellent  \\\n",
       "571                       This fixes all the problems.       1      False   \n",
       "295   This is hands down the best phone I've ever had.       1      False   \n",
       "793  I bought this battery with a coupon from Amazo...       1      False   \n",
       "776                      I highly recommend this case.       1      False   \n",
       "136                     Very good stuff for the price.       1      False   \n",
       "\n",
       "     great   good  allcaps  \n",
       "571  False  False    False  \n",
       "295  False  False    False  \n",
       "793  False  False    False  \n",
       "776  False  False    False  \n",
       "136  False   True    False  "
      ]
     },
     "execution_count": 69,
     "metadata": {},
     "output_type": "execute_result"
    }
   ],
   "source": [
    "train_pos = train[ train['Binary'] == int(a)]\n",
    "train_pos.head()"
   ]
  },
  {
   "cell_type": "code",
   "execution_count": 70,
   "metadata": {},
   "outputs": [
    {
     "data": {
      "text/html": [
       "<div>\n",
       "<style>\n",
       "    .dataframe thead tr:only-child th {\n",
       "        text-align: right;\n",
       "    }\n",
       "\n",
       "    .dataframe thead th {\n",
       "        text-align: left;\n",
       "    }\n",
       "\n",
       "    .dataframe tbody tr th {\n",
       "        vertical-align: top;\n",
       "    }\n",
       "</style>\n",
       "<table border=\"1\" class=\"dataframe\">\n",
       "  <thead>\n",
       "    <tr style=\"text-align: right;\">\n",
       "      <th></th>\n",
       "      <th>Feedback</th>\n",
       "      <th>Binary</th>\n",
       "      <th>Excellent</th>\n",
       "      <th>great</th>\n",
       "      <th>good</th>\n",
       "      <th>allcaps</th>\n",
       "    </tr>\n",
       "  </thead>\n",
       "  <tbody>\n",
       "    <tr>\n",
       "      <th>915</th>\n",
       "      <td>So I had to take the battery out of the phone ...</td>\n",
       "      <td>0</td>\n",
       "      <td>False</td>\n",
       "      <td>False</td>\n",
       "      <td>False</td>\n",
       "      <td>False</td>\n",
       "    </tr>\n",
       "    <tr>\n",
       "      <th>199</th>\n",
       "      <td>useless phone, simply deaf.</td>\n",
       "      <td>0</td>\n",
       "      <td>False</td>\n",
       "      <td>False</td>\n",
       "      <td>False</td>\n",
       "      <td>False</td>\n",
       "    </tr>\n",
       "    <tr>\n",
       "      <th>944</th>\n",
       "      <td>I does not maintain a connection with the comp...</td>\n",
       "      <td>0</td>\n",
       "      <td>False</td>\n",
       "      <td>False</td>\n",
       "      <td>False</td>\n",
       "      <td>False</td>\n",
       "    </tr>\n",
       "    <tr>\n",
       "      <th>472</th>\n",
       "      <td>Disappointment.. I hate anything that goes in ...</td>\n",
       "      <td>0</td>\n",
       "      <td>False</td>\n",
       "      <td>False</td>\n",
       "      <td>False</td>\n",
       "      <td>False</td>\n",
       "    </tr>\n",
       "    <tr>\n",
       "      <th>547</th>\n",
       "      <td>Trying to make a call on these is an exercise ...</td>\n",
       "      <td>0</td>\n",
       "      <td>False</td>\n",
       "      <td>False</td>\n",
       "      <td>False</td>\n",
       "      <td>False</td>\n",
       "    </tr>\n",
       "  </tbody>\n",
       "</table>\n",
       "</div>"
      ],
      "text/plain": [
       "                                              Feedback  Binary  Excellent  \\\n",
       "915  So I had to take the battery out of the phone ...       0      False   \n",
       "199                        useless phone, simply deaf.       0      False   \n",
       "944  I does not maintain a connection with the comp...       0      False   \n",
       "472  Disappointment.. I hate anything that goes in ...       0      False   \n",
       "547  Trying to make a call on these is an exercise ...       0      False   \n",
       "\n",
       "     great   good  allcaps  \n",
       "915  False  False    False  \n",
       "199  False  False    False  \n",
       "944  False  False    False  \n",
       "472  False  False    False  \n",
       "547  False  False    False  "
      ]
     },
     "execution_count": 70,
     "metadata": {},
     "output_type": "execute_result"
    }
   ],
   "source": [
    "train_neg = train[ train['Binary'] == int(b)]\n",
    "train_neg.head()"
   ]
  },
  {
   "cell_type": "code",
   "execution_count": 71,
   "metadata": {
    "collapsed": true
   },
   "outputs": [],
   "source": [
    "c=1\n",
    "d=0\n",
    "\n",
    "test_pos = test[ test['Binary'] == int(c)]\n",
    "test_pos = test_pos['Feedback']\n",
    "test_neg = test[ test['Binary'] == int(d)]\n",
    "test_neg = test_neg['Feedback']\n"
   ]
  },
  {
   "cell_type": "code",
   "execution_count": 72,
   "metadata": {},
   "outputs": [
    {
     "data": {
      "text/html": [
       "<div>\n",
       "<style>\n",
       "    .dataframe thead tr:only-child th {\n",
       "        text-align: right;\n",
       "    }\n",
       "\n",
       "    .dataframe thead th {\n",
       "        text-align: left;\n",
       "    }\n",
       "\n",
       "    .dataframe tbody tr th {\n",
       "        vertical-align: top;\n",
       "    }\n",
       "</style>\n",
       "<table border=\"1\" class=\"dataframe\">\n",
       "  <thead>\n",
       "    <tr style=\"text-align: right;\">\n",
       "      <th></th>\n",
       "      <th>Feedback</th>\n",
       "      <th>Binary</th>\n",
       "      <th>Excellent</th>\n",
       "      <th>great</th>\n",
       "      <th>good</th>\n",
       "      <th>allcaps</th>\n",
       "    </tr>\n",
       "  </thead>\n",
       "  <tbody>\n",
       "    <tr>\n",
       "      <th>398</th>\n",
       "      <td>Sounds good reasonably priced and effective, I...</td>\n",
       "      <td>1</td>\n",
       "      <td>False</td>\n",
       "      <td>False</td>\n",
       "      <td>True</td>\n",
       "      <td>False</td>\n",
       "    </tr>\n",
       "    <tr>\n",
       "      <th>332</th>\n",
       "      <td>The reception is excellent!</td>\n",
       "      <td>1</td>\n",
       "      <td>True</td>\n",
       "      <td>False</td>\n",
       "      <td>False</td>\n",
       "      <td>False</td>\n",
       "    </tr>\n",
       "    <tr>\n",
       "      <th>452</th>\n",
       "      <td>My colleague &amp; I now get great reception.A lit...</td>\n",
       "      <td>1</td>\n",
       "      <td>False</td>\n",
       "      <td>True</td>\n",
       "      <td>False</td>\n",
       "      <td>False</td>\n",
       "    </tr>\n",
       "    <tr>\n",
       "      <th>369</th>\n",
       "      <td>I was looking for this headset for a long time...</td>\n",
       "      <td>1</td>\n",
       "      <td>False</td>\n",
       "      <td>False</td>\n",
       "      <td>False</td>\n",
       "      <td>False</td>\n",
       "    </tr>\n",
       "    <tr>\n",
       "      <th>609</th>\n",
       "      <td>It fits my ear well and is comfortable on.</td>\n",
       "      <td>1</td>\n",
       "      <td>False</td>\n",
       "      <td>False</td>\n",
       "      <td>False</td>\n",
       "      <td>False</td>\n",
       "    </tr>\n",
       "  </tbody>\n",
       "</table>\n",
       "</div>"
      ],
      "text/plain": [
       "                                              Feedback  Binary  Excellent  \\\n",
       "398  Sounds good reasonably priced and effective, I...       1      False   \n",
       "332                        The reception is excellent!       1       True   \n",
       "452  My colleague & I now get great reception.A lit...       1      False   \n",
       "369  I was looking for this headset for a long time...       1      False   \n",
       "609         It fits my ear well and is comfortable on.       1      False   \n",
       "\n",
       "     great   good  allcaps  \n",
       "398  False   True    False  \n",
       "332  False  False    False  \n",
       "452   True  False    False  \n",
       "369  False  False    False  \n",
       "609  False  False    False  "
      ]
     },
     "execution_count": 72,
     "metadata": {},
     "output_type": "execute_result"
    }
   ],
   "source": [
    "c=1\n",
    "d=0\n",
    "\n",
    "test_pos = test[ test['Binary'] == int(c)]\n",
    "test_neg = test[ test['Binary'] == int(d)]\n",
    "test_pos.head()\n"
   ]
  },
  {
   "cell_type": "code",
   "execution_count": 73,
   "metadata": {},
   "outputs": [
    {
     "data": {
      "text/html": [
       "<div>\n",
       "<style>\n",
       "    .dataframe thead tr:only-child th {\n",
       "        text-align: right;\n",
       "    }\n",
       "\n",
       "    .dataframe thead th {\n",
       "        text-align: left;\n",
       "    }\n",
       "\n",
       "    .dataframe tbody tr th {\n",
       "        vertical-align: top;\n",
       "    }\n",
       "</style>\n",
       "<table border=\"1\" class=\"dataframe\">\n",
       "  <thead>\n",
       "    <tr style=\"text-align: right;\">\n",
       "      <th></th>\n",
       "      <th>Feedback</th>\n",
       "      <th>Binary</th>\n",
       "      <th>Excellent</th>\n",
       "      <th>great</th>\n",
       "      <th>good</th>\n",
       "      <th>allcaps</th>\n",
       "    </tr>\n",
       "  </thead>\n",
       "  <tbody>\n",
       "    <tr>\n",
       "      <th>169</th>\n",
       "      <td>One thing I hate is the mode set button at the...</td>\n",
       "      <td>0</td>\n",
       "      <td>False</td>\n",
       "      <td>False</td>\n",
       "      <td>False</td>\n",
       "      <td>False</td>\n",
       "    </tr>\n",
       "    <tr>\n",
       "      <th>531</th>\n",
       "      <td>They refuse to refund or replace.</td>\n",
       "      <td>0</td>\n",
       "      <td>False</td>\n",
       "      <td>False</td>\n",
       "      <td>False</td>\n",
       "      <td>False</td>\n",
       "    </tr>\n",
       "    <tr>\n",
       "      <th>601</th>\n",
       "      <td>The real killer is the volume, and of course i...</td>\n",
       "      <td>0</td>\n",
       "      <td>False</td>\n",
       "      <td>False</td>\n",
       "      <td>False</td>\n",
       "      <td>False</td>\n",
       "    </tr>\n",
       "    <tr>\n",
       "      <th>824</th>\n",
       "      <td>Awkward to use and unreliable.</td>\n",
       "      <td>0</td>\n",
       "      <td>False</td>\n",
       "      <td>False</td>\n",
       "      <td>False</td>\n",
       "      <td>False</td>\n",
       "    </tr>\n",
       "    <tr>\n",
       "      <th>60</th>\n",
       "      <td>Essentially you can forget Microsoft's tech su...</td>\n",
       "      <td>0</td>\n",
       "      <td>False</td>\n",
       "      <td>False</td>\n",
       "      <td>False</td>\n",
       "      <td>False</td>\n",
       "    </tr>\n",
       "  </tbody>\n",
       "</table>\n",
       "</div>"
      ],
      "text/plain": [
       "                                              Feedback  Binary  Excellent  \\\n",
       "169  One thing I hate is the mode set button at the...       0      False   \n",
       "531                  They refuse to refund or replace.       0      False   \n",
       "601  The real killer is the volume, and of course i...       0      False   \n",
       "824                     Awkward to use and unreliable.       0      False   \n",
       "60   Essentially you can forget Microsoft's tech su...       0      False   \n",
       "\n",
       "     great   good  allcaps  \n",
       "169  False  False    False  \n",
       "531  False  False    False  \n",
       "601  False  False    False  \n",
       "824  False  False    False  \n",
       "60   False  False    False  "
      ]
     },
     "execution_count": 73,
     "metadata": {},
     "output_type": "execute_result"
    }
   ],
   "source": [
    "test_neg.head(5)"
   ]
  },
  {
   "cell_type": "code",
   "execution_count": 74,
   "metadata": {},
   "outputs": [
    {
     "data": {
      "text/plain": [
       "str"
      ]
     },
     "execution_count": 74,
     "metadata": {},
     "output_type": "execute_result"
    }
   ],
   "source": [
    "type('Binary')"
   ]
  },
  {
   "cell_type": "code",
   "execution_count": 75,
   "metadata": {},
   "outputs": [
    {
     "name": "stdout",
     "output_type": "stream",
     "text": [
      "[Negative]: 50/                                              Feedback  Binary  Excellent  \\\n",
      "915  So I had to take the battery out of the phone ...       0      False   \n",
      "199                        useless phone, simply deaf.       0      False   \n",
      "944  I does not maintain a connection with the comp...       0      False   \n",
      "472  Disappointment.. I hate anything that goes in ...       0      False   \n",
      "547  Trying to make a call on these is an exercise ...       0      False   \n",
      "608   It is cheap, and it feel and look just as cheap.       0      False   \n",
      "628  Case was more or less an extra that I original...       0      False   \n",
      "767  I really wanted the Plantronics 510 to be the ...       0      False   \n",
      "841  the only VERY DISAPPOINTING thing was there wa...       0      False   \n",
      "353  Their network coverage in Los Angeles is horri...       0      False   \n",
      "293                        DO NOT PURCHASE THIS PHONE.       0      False   \n",
      "134                       Buyer--Be Very Careful!!!!!.       0      False   \n",
      "620  Steer clear of this product and go with the ge...       0      False   \n",
      "344                            Worst customer service.       0      False   \n",
      "151                  Audio Quality is poor, very poor.       0      False   \n",
      "39                                  worthless product.       0      False   \n",
      "880  The bottowm line...another worthless, cheap gi...       0      False   \n",
      "754  The camera on the phone may be used as a dustp...       0      False   \n",
      "734  We have tried 2 units and they both failed wit...       0      False   \n",
      "30   This is a simple little phone to use, but the ...       0      False   \n",
      "832                                       dont buy it.       0      False   \n",
      "410                I'll be looking for a new earpiece.       0      False   \n",
      "495                           Plug was the wrong size.       0      False   \n",
      "244     It defeats the purpose of a bluetooth headset.       0      False   \n",
      "263                                    Absolutel junk.       0      False   \n",
      "427  Another note about this phone's appearance is ...       0      False   \n",
      "96   If you plan to use this in a car forget about it.       0      False   \n",
      "71   Even in my BMW 3 series which is fairly quiet,...       0      False   \n",
      "299  Battery life still not long enough in Motorola...       0      False   \n",
      "318                              I want my money back.       0      False   \n",
      "..                                                 ...     ...        ...   \n",
      "350                           Were JERKS on the phone.       0      False   \n",
      "220                               Freezes frequently4.       0      False   \n",
      "232                  Don't waste your $$$ on this one.       0      False   \n",
      "992                   Lasted one day and then blew up.       0      False   \n",
      "357  First off the reception sucks, I have never ha...       0      False   \n",
      "184  I recently had problems where I could not stay...       0      False   \n",
      "675         Can't upload ringtones from a third party.       0      False   \n",
      "560  Muddy, low quality sound, and the casing aroun...       0      False   \n",
      "794  The internet access was fine, it the rare inst...       0      False   \n",
      "282                First of all, it doesn't wear well.       0      False   \n",
      "308  My 5-year old Nokia 2160 from Tracfone holds t...       0      False   \n",
      "623  Plus, I seriously do not believe it is worth i...       0      False   \n",
      "150                             I Was Hoping for More.       0      False   \n",
      "615  the charger worked for about a week and then c...       0      False   \n",
      "324  I have 2-3 bars on my cell phone when I am hom...       0      False   \n",
      "274                         Avoid this one if you can.       0      False   \n",
      "346          Reception is terrible and full of static.       0      False   \n",
      "162  This is essentially a communications tool that...       0      False   \n",
      "198                     The pleather case doesn't fit.       0      False   \n",
      "616                                      Poor product.       0      False   \n",
      "404                   don't waste your money and time.       0      False   \n",
      "326  However-the riingtones are not the best, and n...       0      False   \n",
      "466                    No buyers remorse on this one!.       0      False   \n",
      "328                                      AMAZON SUCKS.       0      False   \n",
      "373  The worst phone I've ever had.... Only had it ...       0      False   \n",
      "409  I came over from Verizon because cingulair has...       0      False   \n",
      "996  What a piece of junk.. I lose more calls on th...       0      False   \n",
      "141  During several different 2 minute calls, I exp...       0      False   \n",
      "973                                     Lousy product.       0      False   \n",
      "997                       Item Does Not Match Picture.       0      False   \n",
      "\n",
      "     great   good  allcaps  \n",
      "915  False  False    False  \n",
      "199  False  False    False  \n",
      "944  False  False    False  \n",
      "472  False  False    False  \n",
      "547  False  False    False  \n",
      "608  False  False    False  \n",
      "628  False  False    False  \n",
      "767  False   True    False  \n",
      "841  False  False    False  \n",
      "353  False  False    False  \n",
      "293  False  False     True  \n",
      "134  False  False    False  \n",
      "620  False  False    False  \n",
      "344  False  False    False  \n",
      "151  False  False    False  \n",
      "39   False  False    False  \n",
      "880  False  False    False  \n",
      "754  False  False    False  \n",
      "734  False  False    False  \n",
      "30   False  False    False  \n",
      "832  False  False    False  \n",
      "410  False  False    False  \n",
      "495  False  False    False  \n",
      "244  False  False    False  \n",
      "263  False  False    False  \n",
      "427  False  False    False  \n",
      "96   False  False    False  \n",
      "71   False  False    False  \n",
      "299  False  False    False  \n",
      "318  False  False    False  \n",
      "..     ...    ...      ...  \n",
      "350  False  False    False  \n",
      "220  False  False    False  \n",
      "232  False  False    False  \n",
      "992  False  False    False  \n",
      "357  False  False    False  \n",
      "184  False  False    False  \n",
      "675  False  False    False  \n",
      "560  False  False    False  \n",
      "794  False  False    False  \n",
      "282  False  False    False  \n",
      "308  False  False    False  \n",
      "623  False  False    False  \n",
      "150  False  False    False  \n",
      "615  False  False    False  \n",
      "324  False  False    False  \n",
      "274  False  False    False  \n",
      "346  False  False    False  \n",
      "162  False  False    False  \n",
      "198  False  False    False  \n",
      "616  False  False    False  \n",
      "404  False  False    False  \n",
      "326  False  False    False  \n",
      "466  False  False    False  \n",
      "328  False  False     True  \n",
      "373  False  False    False  \n",
      "409  False  False    False  \n",
      "996  False  False    False  \n",
      "141  False  False    False  \n",
      "973  False  False    False  \n",
      "997  False  False    False  \n",
      "\n",
      "[450 rows x 6 columns] \n",
      "[Positive]: 50/                                              Feedback  Binary  Excellent  \\\n",
      "571                       This fixes all the problems.       1      False   \n",
      "295   This is hands down the best phone I've ever had.       1      False   \n",
      "793  I bought this battery with a coupon from Amazo...       1      False   \n",
      "776                      I highly recommend this case.       1      False   \n",
      "136                     Very good stuff for the price.       1      False   \n",
      "53   This phone is pretty sturdy and I've never had...       1      False   \n",
      "538  The eargels channel the sound directly into yo...       1      False   \n",
      "747  This BlueAnt Supertooth hands-free phone speak...       1      False   \n",
      "657  The handsfree part works fine, but then the ca...       1      False   \n",
      "872  I was very pleased to see that I could replace...       1      False   \n",
      "80       I wear it everyday and it holds up very well.       1      False   \n",
      "259             Great for using with your home stereo.       1      False   \n",
      "347                                Good audio quality.       1      False   \n",
      "317  This is definitely a must have if your state d...       1      False   \n",
      "737  The tracfonewebsite is user friendly and makes...       1      False   \n",
      "651  I found the product to be easy to set up and use.       1      False   \n",
      "619  Worked very well paired with a Treo 700w and a...       1      False   \n",
      "133                           !I definitly recommend!!       1      False   \n",
      "663  Its well-designed and very sharp -- the blue i...       1      False   \n",
      "260                   Good product - incredible value.       1      False   \n",
      "927       but it is great, i would really recommend it       1      False   \n",
      "4                                    The mic is great.       1      False   \n",
      "638  I used bitpim (a free program you can find on ...       1       True   \n",
      "253           I love all the features and form factor.       1      False   \n",
      "655  No ear loop needed, it's tiny and the sound is...       1      False   \n",
      "611  clipping this to your belt will deffinitely ma...       1      False   \n",
      "707  This is cool because most cases are just open ...       1      False   \n",
      "262                                       Works great.       1      False   \n",
      "203  The best electronics of the available FM Trans...       1      False   \n",
      "296  Works great, when my cat attacked the phone he...       1      False   \n",
      "..                                                 ...     ...        ...   \n",
      "891  Fits comfortably, came with three sizes of ear...       1      False   \n",
      "851  This is an excellent tool, especially when pai...       1       True   \n",
      "451                             Portable and it works.       1      False   \n",
      "362  It is light, easy to use, and has very clear r...       1      False   \n",
      "758            The sound quality is excellent as well.       1       True   \n",
      "395                          Better than you'd expect.       1      False   \n",
      "250  It's fits like a glove and is strong, secure, ...       1      False   \n",
      "11   He was very impressed when going from the orig...       1      False   \n",
      "975  It is the best charger I have seen on the mark...       1      False   \n",
      "62   These headphones were a great find - and I thi...       1      False   \n",
      "257                                    Great Earpiece.       1      False   \n",
      "562  All in all, I'm quite satisfied with this purc...       1      False   \n",
      "778                              This is a great deal.       1      False   \n",
      "583  It plays louder than any other speaker of this...       1      False   \n",
      "163  Works like a charm; it work the same as the on...       1      False   \n",
      "247  Nice headphones for the price and they work gr...       1      False   \n",
      "716  It quit working after I'd used it for about 18...       1      False   \n",
      "381  you can even take self portraits with the outs...       1      False   \n",
      "666                                        Nice Sound.       1      False   \n",
      "430                               Fantastic earphones.       1      False   \n",
      "524                                      Works great!.       1      False   \n",
      "937  The headset fulfills my requirements so I am h...       1      False   \n",
      "182  The sound quality is good and functionality is...       1      False   \n",
      "678  It works fine on my Motorola 325 cellphone, an...       1      False   \n",
      "923                                        cool phone.       1      False   \n",
      "157        This item is fantastic and works perfectly!       1      False   \n",
      "647                                       Great phone.       1      False   \n",
      "774  Excellent sound, battery life and inconspicuou...       1       True   \n",
      "862                 So far it has worked like a charm.       1      False   \n",
      "882  The only good thing was that it fits comfortab...       1      False   \n",
      "\n",
      "     great   good  allcaps  \n",
      "571  False  False    False  \n",
      "295  False  False    False  \n",
      "793  False  False    False  \n",
      "776  False  False    False  \n",
      "136  False   True    False  \n",
      "53   False  False    False  \n",
      "538  False  False    False  \n",
      "747  False  False    False  \n",
      "657  False  False    False  \n",
      "872  False  False    False  \n",
      "80   False  False    False  \n",
      "259   True  False    False  \n",
      "347  False   True    False  \n",
      "317  False  False    False  \n",
      "737  False  False    False  \n",
      "651  False  False    False  \n",
      "619  False  False    False  \n",
      "133  False  False    False  \n",
      "663  False  False    False  \n",
      "260  False   True    False  \n",
      "927   True  False    False  \n",
      "4     True  False    False  \n",
      "638  False  False    False  \n",
      "253  False  False    False  \n",
      "655   True  False    False  \n",
      "611  False  False    False  \n",
      "707  False  False    False  \n",
      "262   True  False    False  \n",
      "203  False  False    False  \n",
      "296   True  False    False  \n",
      "..     ...    ...      ...  \n",
      "891  False  False    False  \n",
      "851  False  False    False  \n",
      "451  False  False    False  \n",
      "362  False  False    False  \n",
      "758  False  False    False  \n",
      "395  False  False    False  \n",
      "250  False  False    False  \n",
      "11   False  False    False  \n",
      "975  False  False    False  \n",
      "62    True  False    False  \n",
      "257   True  False    False  \n",
      "562  False  False    False  \n",
      "778   True  False    False  \n",
      "583  False  False    False  \n",
      "163  False  False    False  \n",
      "247   True  False    False  \n",
      "716  False  False    False  \n",
      "381  False  False    False  \n",
      "666  False  False    False  \n",
      "430  False  False    False  \n",
      "524   True  False    False  \n",
      "937  False  False    False  \n",
      "182  False   True    False  \n",
      "678  False  False    False  \n",
      "923  False  False    False  \n",
      "157  False  False    False  \n",
      "647   True  False    False  \n",
      "774  False  False    False  \n",
      "862  False  False    False  \n",
      "882  False   True    False  \n",
      "\n",
      "[450 rows x 6 columns] \n"
     ]
    }
   ],
   "source": [
    "print('[Negative]: %s/%s '  % (len(test_neg),train_neg))        \n",
    "print('[Positive]: %s/%s '  % (len(test_pos),train_pos))  \n",
    " "
   ]
  },
  {
   "cell_type": "markdown",
   "metadata": {},
   "source": [
    "## Challenge: Iterate and evaluate your classifier\n",
    "\n",
    "\n",
    "It's time to revisit your classifier from the previous assignment. Using the evaluation techniques we've covered here, look at your classifier's performance in more detail. Then go back and iterate by engineering new features, removing poor features, or tuning parameters. Repeat this process until you have five different versions of your classifier. Once you've iterated, answer these questions to compare the performance of each:\n",
    "\n",
    "Do any of your classifiers seem to overfit?\n",
    "Which seem to perform the best? Why?\n",
    "Which features seemed to be most impactful to performance?\n",
    "Write up your iterations and answers to the above questions in a few pages. Submit a link below and go over it with your mentor to see if they have any other ideas on how you could improve your classifier's performance."
   ]
  },
  {
   "cell_type": "code",
   "execution_count": 76,
   "metadata": {},
   "outputs": [
    {
     "data": {
      "text/plain": [
       "Index(['Feedback', 'Binary', 'Excellent', 'great', 'good', 'allcaps'], dtype='object')"
      ]
     },
     "execution_count": 76,
     "metadata": {},
     "output_type": "execute_result"
    }
   ],
   "source": [
    "from sklearn.cross_validation import train_test_split\n",
    "df.columns"
   ]
  },
  {
   "cell_type": "code",
   "execution_count": 77,
   "metadata": {
    "collapsed": true
   },
   "outputs": [],
   "source": [
    "X= df[['Excellent', 'great', 'good', 'allcaps']]"
   ]
  },
  {
   "cell_type": "code",
   "execution_count": 78,
   "metadata": {
    "collapsed": true
   },
   "outputs": [],
   "source": [
    "y= df['Binary']"
   ]
  },
  {
   "cell_type": "code",
   "execution_count": 79,
   "metadata": {
    "collapsed": true
   },
   "outputs": [],
   "source": [
    "from sklearn.cross_validation import train_test_split"
   ]
  },
  {
   "cell_type": "code",
   "execution_count": 80,
   "metadata": {
    "collapsed": true
   },
   "outputs": [],
   "source": [
    "X_train, X_test, y_train, y_test= train_test_split(X,y, test_size=0.3, random_state=101)"
   ]
  },
  {
   "cell_type": "code",
   "execution_count": 81,
   "metadata": {
    "collapsed": true
   },
   "outputs": [],
   "source": [
    "from sklearn.linear_model import LinearRegression"
   ]
  },
  {
   "cell_type": "code",
   "execution_count": 82,
   "metadata": {
    "collapsed": true
   },
   "outputs": [],
   "source": [
    "lm= LinearRegression()"
   ]
  },
  {
   "cell_type": "code",
   "execution_count": 83,
   "metadata": {},
   "outputs": [
    {
     "data": {
      "text/plain": [
       "LinearRegression(copy_X=True, fit_intercept=True, n_jobs=1, normalize=False)"
      ]
     },
     "execution_count": 83,
     "metadata": {},
     "output_type": "execute_result"
    }
   ],
   "source": [
    "lm.fit(X_train,y_train)"
   ]
  },
  {
   "cell_type": "code",
   "execution_count": 84,
   "metadata": {},
   "outputs": [
    {
     "name": "stdout",
     "output_type": "stream",
     "text": [
      "0.432312234451\n"
     ]
    }
   ],
   "source": [
    "print(lm.intercept_)"
   ]
  },
  {
   "cell_type": "code",
   "execution_count": 85,
   "metadata": {},
   "outputs": [
    {
     "data": {
      "text/plain": [
       "array([ 0.48680551,  0.52021817,  0.41781118, -0.05621269])"
      ]
     },
     "execution_count": 85,
     "metadata": {},
     "output_type": "execute_result"
    }
   ],
   "source": [
    "lm.coef_"
   ]
  },
  {
   "cell_type": "code",
   "execution_count": 86,
   "metadata": {},
   "outputs": [
    {
     "data": {
      "text/html": [
       "<div>\n",
       "<style>\n",
       "    .dataframe thead tr:only-child th {\n",
       "        text-align: right;\n",
       "    }\n",
       "\n",
       "    .dataframe thead th {\n",
       "        text-align: left;\n",
       "    }\n",
       "\n",
       "    .dataframe tbody tr th {\n",
       "        vertical-align: top;\n",
       "    }\n",
       "</style>\n",
       "<table border=\"1\" class=\"dataframe\">\n",
       "  <thead>\n",
       "    <tr style=\"text-align: right;\">\n",
       "      <th></th>\n",
       "      <th>Coefficient</th>\n",
       "    </tr>\n",
       "  </thead>\n",
       "  <tbody>\n",
       "    <tr>\n",
       "      <th>Excellent</th>\n",
       "      <td>0.486806</td>\n",
       "    </tr>\n",
       "    <tr>\n",
       "      <th>great</th>\n",
       "      <td>0.520218</td>\n",
       "    </tr>\n",
       "    <tr>\n",
       "      <th>good</th>\n",
       "      <td>0.417811</td>\n",
       "    </tr>\n",
       "    <tr>\n",
       "      <th>allcaps</th>\n",
       "      <td>-0.056213</td>\n",
       "    </tr>\n",
       "  </tbody>\n",
       "</table>\n",
       "</div>"
      ],
      "text/plain": [
       "           Coefficient\n",
       "Excellent     0.486806\n",
       "great         0.520218\n",
       "good          0.417811\n",
       "allcaps      -0.056213"
      ]
     },
     "execution_count": 86,
     "metadata": {},
     "output_type": "execute_result"
    }
   ],
   "source": [
    "coeff_df = pd.DataFrame(lm.coef_,X.columns,columns=['Coefficient'])\n",
    "coeff_df"
   ]
  },
  {
   "cell_type": "code",
   "execution_count": 87,
   "metadata": {
    "collapsed": true
   },
   "outputs": [],
   "source": [
    "predictions = lm.predict(X_test)"
   ]
  },
  {
   "cell_type": "code",
   "execution_count": 88,
   "metadata": {},
   "outputs": [
    {
     "data": {
      "text/plain": [
       "<matplotlib.collections.PathCollection at 0x20fc5419a58>"
      ]
     },
     "execution_count": 88,
     "metadata": {},
     "output_type": "execute_result"
    },
    {
     "data": {
      "image/png": "[encoded data removed]",
      "text/plain": [
       "<matplotlib.figure.Figure at 0x20fc5389588>"
      ]
     },
     "metadata": {},
     "output_type": "display_data"
    }
   ],
   "source": [
    "plt.scatter(y_test,predictions)"
   ]
  },
  {
   "cell_type": "code",
   "execution_count": 89,
   "metadata": {},
   "outputs": [
    {
     "data": {
      "image/png": "[encoded data removed]",
      "text/plain": [
       "<matplotlib.figure.Figure at 0x20fc5430320>"
      ]
     },
     "metadata": {},
     "output_type": "display_data"
    }
   ],
   "source": [
    "sns.distplot((y_test-predictions),bins=50);"
   ]
  },
  {
   "cell_type": "code",
   "execution_count": 90,
   "metadata": {
    "collapsed": true
   },
   "outputs": [],
   "source": [
    "from sklearn import metrics"
   ]
  },
  {
   "cell_type": "code",
   "execution_count": 91,
   "metadata": {},
   "outputs": [
    {
     "name": "stdout",
     "output_type": "stream",
     "text": [
      "MAE: 0.439254038012\n",
      "MSE: 0.220919479331\n",
      "RMSE: 0.470020722236\n"
     ]
    }
   ],
   "source": [
    "print('MAE:', metrics.mean_absolute_error(y_test, predictions))\n",
    "print('MSE:', metrics.mean_squared_error(y_test, predictions))\n",
    "print('RMSE:', np.sqrt(metrics.mean_squared_error(y_test, predictions)))"
   ]
  },
  {
   "cell_type": "code",
   "execution_count": null,
   "metadata": {
    "collapsed": true
   },
   "outputs": [],
   "source": []
  }
 ],
 "metadata": {
  "kernelspec": {
   "display_name": "Python 3",
   "language": "python",
   "name": "python3"
  },
  "language_info": {
   "codemirror_mode": {
    "name": "ipython",
    "version": 3
   },
   "file_extension": ".py",
   "mimetype": "text/x-python",
   "name": "python",
   "nbconvert_exporter": "python",
   "pygments_lexer": "ipython3",
   "version": "3.6.3"
  }
 },
 "nbformat": 4,
 "nbformat_minor": 2
}
